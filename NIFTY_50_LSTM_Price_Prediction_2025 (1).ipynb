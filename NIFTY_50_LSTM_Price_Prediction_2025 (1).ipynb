{
  "cells": [
    {
      "cell_type": "markdown",
      "id": "5b13992b",
      "metadata": {
        "id": "5b13992b"
      },
      "source": [
        "#  NIFTY 50 Price Prediction using LSTM (2010–2025)\n",
        "This project trains an LSTM model on historical NIFTY 50 index data (till 2024) and predicts daily closing prices for the first half of 2025. We then compare predictions with actual data for evaluation.\n",
        "\n",
        "**Tools Used:** Python, yfinance, TensorFlow/Keras, LSTM, Matplotlib, NumPy"
      ]
    },
    {
      "cell_type": "code",
      "execution_count": 2,
      "id": "a2bcce51",
      "metadata": {
        "id": "a2bcce51"
      },
      "outputs": [],
      "source": [
        "# Install required packages if needed\n",
        "# !pip install yfinance tensorflow scikit-learn matplotlib pandas\n"
      ]
    },
    {
      "cell_type": "code",
      "execution_count": 3,
      "id": "273a7765",
      "metadata": {
        "id": "273a7765"
      },
      "outputs": [],
      "source": [
        "import numpy as np\n",
        "import pandas as pd\n",
        "import yfinance as yf\n",
        "import matplotlib.pyplot as plt\n",
        "from sklearn.preprocessing import MinMaxScaler\n",
        "from tensorflow.keras.models import Sequential\n",
        "from tensorflow.keras.layers import LSTM, Dense\n",
        "from sklearn.metrics import mean_squared_error, mean_absolute_percentage_error\n",
        "import datetime"
      ]
    },
    {
      "cell_type": "markdown",
      "id": "e36e054d",
      "metadata": {
        "id": "e36e054d"
      },
      "source": [
        "## Step 1: Download NIFTY 50 Data"
      ]
    },
    {
      "cell_type": "code",
      "execution_count": 4,
      "id": "b914d025",
      "metadata": {
        "colab": {
          "base_uri": "https://localhost:8080/",
          "height": 303
        },
        "id": "b914d025",
        "outputId": "5b315f57-664c-4719-e628-bb255725296e"
      },
      "outputs": [
        {
          "output_type": "stream",
          "name": "stdout",
          "text": [
            "YF.download() has changed argument auto_adjust default to True\n"
          ]
        },
        {
          "output_type": "stream",
          "name": "stderr",
          "text": [
            "\r[*********************100%***********************]  1 of 1 completed\n"
          ]
        },
        {
          "output_type": "execute_result",
          "data": {
            "text/plain": [
              "Price             Close         High          Low         Open Volume\n",
              "Ticker            ^NSEI        ^NSEI        ^NSEI        ^NSEI  ^NSEI\n",
              "Date                                                                 \n",
              "2010-01-04  5232.200195  5238.450195  5167.100098  5200.899902      0\n",
              "2010-01-05  5277.899902  5288.350098  5242.399902  5277.149902      0\n",
              "2010-01-06  5281.799805  5310.850098  5260.049805  5278.149902      0\n",
              "2010-01-07  5263.100098  5302.549805  5244.750000  5281.799805      0\n",
              "2010-01-08  5244.750000  5276.750000  5234.700195  5264.250000      0"
            ],
            "text/html": [
              "\n",
              "  <div id=\"df-00dcd8e1-9b91-4389-9d46-48b5340d90f5\" class=\"colab-df-container\">\n",
              "    <div>\n",
              "<style scoped>\n",
              "    .dataframe tbody tr th:only-of-type {\n",
              "        vertical-align: middle;\n",
              "    }\n",
              "\n",
              "    .dataframe tbody tr th {\n",
              "        vertical-align: top;\n",
              "    }\n",
              "\n",
              "    .dataframe thead tr th {\n",
              "        text-align: left;\n",
              "    }\n",
              "\n",
              "    .dataframe thead tr:last-of-type th {\n",
              "        text-align: right;\n",
              "    }\n",
              "</style>\n",
              "<table border=\"1\" class=\"dataframe\">\n",
              "  <thead>\n",
              "    <tr>\n",
              "      <th>Price</th>\n",
              "      <th>Close</th>\n",
              "      <th>High</th>\n",
              "      <th>Low</th>\n",
              "      <th>Open</th>\n",
              "      <th>Volume</th>\n",
              "    </tr>\n",
              "    <tr>\n",
              "      <th>Ticker</th>\n",
              "      <th>^NSEI</th>\n",
              "      <th>^NSEI</th>\n",
              "      <th>^NSEI</th>\n",
              "      <th>^NSEI</th>\n",
              "      <th>^NSEI</th>\n",
              "    </tr>\n",
              "    <tr>\n",
              "      <th>Date</th>\n",
              "      <th></th>\n",
              "      <th></th>\n",
              "      <th></th>\n",
              "      <th></th>\n",
              "      <th></th>\n",
              "    </tr>\n",
              "  </thead>\n",
              "  <tbody>\n",
              "    <tr>\n",
              "      <th>2010-01-04</th>\n",
              "      <td>5232.200195</td>\n",
              "      <td>5238.450195</td>\n",
              "      <td>5167.100098</td>\n",
              "      <td>5200.899902</td>\n",
              "      <td>0</td>\n",
              "    </tr>\n",
              "    <tr>\n",
              "      <th>2010-01-05</th>\n",
              "      <td>5277.899902</td>\n",
              "      <td>5288.350098</td>\n",
              "      <td>5242.399902</td>\n",
              "      <td>5277.149902</td>\n",
              "      <td>0</td>\n",
              "    </tr>\n",
              "    <tr>\n",
              "      <th>2010-01-06</th>\n",
              "      <td>5281.799805</td>\n",
              "      <td>5310.850098</td>\n",
              "      <td>5260.049805</td>\n",
              "      <td>5278.149902</td>\n",
              "      <td>0</td>\n",
              "    </tr>\n",
              "    <tr>\n",
              "      <th>2010-01-07</th>\n",
              "      <td>5263.100098</td>\n",
              "      <td>5302.549805</td>\n",
              "      <td>5244.750000</td>\n",
              "      <td>5281.799805</td>\n",
              "      <td>0</td>\n",
              "    </tr>\n",
              "    <tr>\n",
              "      <th>2010-01-08</th>\n",
              "      <td>5244.750000</td>\n",
              "      <td>5276.750000</td>\n",
              "      <td>5234.700195</td>\n",
              "      <td>5264.250000</td>\n",
              "      <td>0</td>\n",
              "    </tr>\n",
              "  </tbody>\n",
              "</table>\n",
              "</div>\n",
              "    <div class=\"colab-df-buttons\">\n",
              "\n",
              "  <div class=\"colab-df-container\">\n",
              "    <button class=\"colab-df-convert\" onclick=\"convertToInteractive('df-00dcd8e1-9b91-4389-9d46-48b5340d90f5')\"\n",
              "            title=\"Convert this dataframe to an interactive table.\"\n",
              "            style=\"display:none;\">\n",
              "\n",
              "  <svg xmlns=\"http://www.w3.org/2000/svg\" height=\"24px\" viewBox=\"0 -960 960 960\">\n",
              "    <path d=\"M120-120v-720h720v720H120Zm60-500h600v-160H180v160Zm220 220h160v-160H400v160Zm0 220h160v-160H400v160ZM180-400h160v-160H180v160Zm440 0h160v-160H620v160ZM180-180h160v-160H180v160Zm440 0h160v-160H620v160Z\"/>\n",
              "  </svg>\n",
              "    </button>\n",
              "\n",
              "  <style>\n",
              "    .colab-df-container {\n",
              "      display:flex;\n",
              "      gap: 12px;\n",
              "    }\n",
              "\n",
              "    .colab-df-convert {\n",
              "      background-color: #E8F0FE;\n",
              "      border: none;\n",
              "      border-radius: 50%;\n",
              "      cursor: pointer;\n",
              "      display: none;\n",
              "      fill: #1967D2;\n",
              "      height: 32px;\n",
              "      padding: 0 0 0 0;\n",
              "      width: 32px;\n",
              "    }\n",
              "\n",
              "    .colab-df-convert:hover {\n",
              "      background-color: #E2EBFA;\n",
              "      box-shadow: 0px 1px 2px rgba(60, 64, 67, 0.3), 0px 1px 3px 1px rgba(60, 64, 67, 0.15);\n",
              "      fill: #174EA6;\n",
              "    }\n",
              "\n",
              "    .colab-df-buttons div {\n",
              "      margin-bottom: 4px;\n",
              "    }\n",
              "\n",
              "    [theme=dark] .colab-df-convert {\n",
              "      background-color: #3B4455;\n",
              "      fill: #D2E3FC;\n",
              "    }\n",
              "\n",
              "    [theme=dark] .colab-df-convert:hover {\n",
              "      background-color: #434B5C;\n",
              "      box-shadow: 0px 1px 3px 1px rgba(0, 0, 0, 0.15);\n",
              "      filter: drop-shadow(0px 1px 2px rgba(0, 0, 0, 0.3));\n",
              "      fill: #FFFFFF;\n",
              "    }\n",
              "  </style>\n",
              "\n",
              "    <script>\n",
              "      const buttonEl =\n",
              "        document.querySelector('#df-00dcd8e1-9b91-4389-9d46-48b5340d90f5 button.colab-df-convert');\n",
              "      buttonEl.style.display =\n",
              "        google.colab.kernel.accessAllowed ? 'block' : 'none';\n",
              "\n",
              "      async function convertToInteractive(key) {\n",
              "        const element = document.querySelector('#df-00dcd8e1-9b91-4389-9d46-48b5340d90f5');\n",
              "        const dataTable =\n",
              "          await google.colab.kernel.invokeFunction('convertToInteractive',\n",
              "                                                    [key], {});\n",
              "        if (!dataTable) return;\n",
              "\n",
              "        const docLinkHtml = 'Like what you see? Visit the ' +\n",
              "          '<a target=\"_blank\" href=https://colab.research.google.com/notebooks/data_table.ipynb>data table notebook</a>'\n",
              "          + ' to learn more about interactive tables.';\n",
              "        element.innerHTML = '';\n",
              "        dataTable['output_type'] = 'display_data';\n",
              "        await google.colab.output.renderOutput(dataTable, element);\n",
              "        const docLink = document.createElement('div');\n",
              "        docLink.innerHTML = docLinkHtml;\n",
              "        element.appendChild(docLink);\n",
              "      }\n",
              "    </script>\n",
              "  </div>\n",
              "\n",
              "\n",
              "    <div id=\"df-2f9da37e-b16d-4d56-bbba-764097a30fcc\">\n",
              "      <button class=\"colab-df-quickchart\" onclick=\"quickchart('df-2f9da37e-b16d-4d56-bbba-764097a30fcc')\"\n",
              "                title=\"Suggest charts\"\n",
              "                style=\"display:none;\">\n",
              "\n",
              "<svg xmlns=\"http://www.w3.org/2000/svg\" height=\"24px\"viewBox=\"0 0 24 24\"\n",
              "     width=\"24px\">\n",
              "    <g>\n",
              "        <path d=\"M19 3H5c-1.1 0-2 .9-2 2v14c0 1.1.9 2 2 2h14c1.1 0 2-.9 2-2V5c0-1.1-.9-2-2-2zM9 17H7v-7h2v7zm4 0h-2V7h2v10zm4 0h-2v-4h2v4z\"/>\n",
              "    </g>\n",
              "</svg>\n",
              "      </button>\n",
              "\n",
              "<style>\n",
              "  .colab-df-quickchart {\n",
              "      --bg-color: #E8F0FE;\n",
              "      --fill-color: #1967D2;\n",
              "      --hover-bg-color: #E2EBFA;\n",
              "      --hover-fill-color: #174EA6;\n",
              "      --disabled-fill-color: #AAA;\n",
              "      --disabled-bg-color: #DDD;\n",
              "  }\n",
              "\n",
              "  [theme=dark] .colab-df-quickchart {\n",
              "      --bg-color: #3B4455;\n",
              "      --fill-color: #D2E3FC;\n",
              "      --hover-bg-color: #434B5C;\n",
              "      --hover-fill-color: #FFFFFF;\n",
              "      --disabled-bg-color: #3B4455;\n",
              "      --disabled-fill-color: #666;\n",
              "  }\n",
              "\n",
              "  .colab-df-quickchart {\n",
              "    background-color: var(--bg-color);\n",
              "    border: none;\n",
              "    border-radius: 50%;\n",
              "    cursor: pointer;\n",
              "    display: none;\n",
              "    fill: var(--fill-color);\n",
              "    height: 32px;\n",
              "    padding: 0;\n",
              "    width: 32px;\n",
              "  }\n",
              "\n",
              "  .colab-df-quickchart:hover {\n",
              "    background-color: var(--hover-bg-color);\n",
              "    box-shadow: 0 1px 2px rgba(60, 64, 67, 0.3), 0 1px 3px 1px rgba(60, 64, 67, 0.15);\n",
              "    fill: var(--button-hover-fill-color);\n",
              "  }\n",
              "\n",
              "  .colab-df-quickchart-complete:disabled,\n",
              "  .colab-df-quickchart-complete:disabled:hover {\n",
              "    background-color: var(--disabled-bg-color);\n",
              "    fill: var(--disabled-fill-color);\n",
              "    box-shadow: none;\n",
              "  }\n",
              "\n",
              "  .colab-df-spinner {\n",
              "    border: 2px solid var(--fill-color);\n",
              "    border-color: transparent;\n",
              "    border-bottom-color: var(--fill-color);\n",
              "    animation:\n",
              "      spin 1s steps(1) infinite;\n",
              "  }\n",
              "\n",
              "  @keyframes spin {\n",
              "    0% {\n",
              "      border-color: transparent;\n",
              "      border-bottom-color: var(--fill-color);\n",
              "      border-left-color: var(--fill-color);\n",
              "    }\n",
              "    20% {\n",
              "      border-color: transparent;\n",
              "      border-left-color: var(--fill-color);\n",
              "      border-top-color: var(--fill-color);\n",
              "    }\n",
              "    30% {\n",
              "      border-color: transparent;\n",
              "      border-left-color: var(--fill-color);\n",
              "      border-top-color: var(--fill-color);\n",
              "      border-right-color: var(--fill-color);\n",
              "    }\n",
              "    40% {\n",
              "      border-color: transparent;\n",
              "      border-right-color: var(--fill-color);\n",
              "      border-top-color: var(--fill-color);\n",
              "    }\n",
              "    60% {\n",
              "      border-color: transparent;\n",
              "      border-right-color: var(--fill-color);\n",
              "    }\n",
              "    80% {\n",
              "      border-color: transparent;\n",
              "      border-right-color: var(--fill-color);\n",
              "      border-bottom-color: var(--fill-color);\n",
              "    }\n",
              "    90% {\n",
              "      border-color: transparent;\n",
              "      border-bottom-color: var(--fill-color);\n",
              "    }\n",
              "  }\n",
              "</style>\n",
              "\n",
              "      <script>\n",
              "        async function quickchart(key) {\n",
              "          const quickchartButtonEl =\n",
              "            document.querySelector('#' + key + ' button');\n",
              "          quickchartButtonEl.disabled = true;  // To prevent multiple clicks.\n",
              "          quickchartButtonEl.classList.add('colab-df-spinner');\n",
              "          try {\n",
              "            const charts = await google.colab.kernel.invokeFunction(\n",
              "                'suggestCharts', [key], {});\n",
              "          } catch (error) {\n",
              "            console.error('Error during call to suggestCharts:', error);\n",
              "          }\n",
              "          quickchartButtonEl.classList.remove('colab-df-spinner');\n",
              "          quickchartButtonEl.classList.add('colab-df-quickchart-complete');\n",
              "        }\n",
              "        (() => {\n",
              "          let quickchartButtonEl =\n",
              "            document.querySelector('#df-2f9da37e-b16d-4d56-bbba-764097a30fcc button');\n",
              "          quickchartButtonEl.style.display =\n",
              "            google.colab.kernel.accessAllowed ? 'block' : 'none';\n",
              "        })();\n",
              "      </script>\n",
              "    </div>\n",
              "\n",
              "    </div>\n",
              "  </div>\n"
            ],
            "application/vnd.google.colaboratory.intrinsic+json": {
              "type": "dataframe",
              "variable_name": "data",
              "summary": "{\n  \"name\": \"data\",\n  \"rows\": 3781,\n  \"fields\": [\n    {\n      \"column\": [\n        \"Date\",\n        \"\"\n      ],\n      \"properties\": {\n        \"dtype\": \"date\",\n        \"min\": \"2010-01-04 00:00:00\",\n        \"max\": \"2025-05-30 00:00:00\",\n        \"num_unique_values\": 3781,\n        \"samples\": [\n          \"2013-10-28 00:00:00\",\n          \"2022-08-02 00:00:00\",\n          \"2022-08-18 00:00:00\"\n        ],\n        \"semantic_type\": \"\",\n        \"description\": \"\"\n      }\n    },\n    {\n      \"column\": [\n        \"Close\",\n        \"^NSEI\"\n      ],\n      \"properties\": {\n        \"dtype\": \"number\",\n        \"std\": 5740.814194898825,\n        \"min\": 4544.2001953125,\n        \"max\": 26216.05078125,\n        \"num_unique_values\": 3743,\n        \"samples\": [\n          21665.80078125,\n          7727.0498046875,\n          5526.85009765625\n        ],\n        \"semantic_type\": \"\",\n        \"description\": \"\"\n      }\n    },\n    {\n      \"column\": [\n        \"High\",\n        \"^NSEI\"\n      ],\n      \"properties\": {\n        \"dtype\": \"number\",\n        \"std\": 5764.447596193317,\n        \"min\": 4623.14990234375,\n        \"max\": 26277.349609375,\n        \"num_unique_values\": 3752,\n        \"samples\": [\n          10596.25,\n          6780.14990234375,\n          19339.55078125\n        ],\n        \"semantic_type\": \"\",\n        \"description\": \"\"\n      }\n    },\n    {\n      \"column\": [\n        \"Low\",\n        \"^NSEI\"\n      ],\n      \"properties\": {\n        \"dtype\": \"number\",\n        \"std\": 5714.398072922996,\n        \"min\": 4531.14990234375,\n        \"max\": 26151.400390625,\n        \"num_unique_values\": 3748,\n        \"samples\": [\n          15678.900390625,\n          18690.0,\n          5521.9501953125\n        ],\n        \"semantic_type\": \"\",\n        \"description\": \"\"\n      }\n    },\n    {\n      \"column\": [\n        \"Open\",\n        \"^NSEI\"\n      ],\n      \"properties\": {\n        \"dtype\": \"number\",\n        \"std\": 5742.6681568631,\n        \"min\": 4623.14990234375,\n        \"max\": 26248.25,\n        \"num_unique_values\": 3751,\n        \"samples\": [\n          10634.900390625,\n          6724.9501953125,\n          19439.19921875\n        ],\n        \"semantic_type\": \"\",\n        \"description\": \"\"\n      }\n    },\n    {\n      \"column\": [\n        \"Volume\",\n        \"^NSEI\"\n      ],\n      \"properties\": {\n        \"dtype\": \"number\",\n        \"std\": 205196,\n        \"min\": 0,\n        \"max\": 1811000,\n        \"num_unique_values\": 2125,\n        \"samples\": [\n          105000,\n          250500,\n          237800\n        ],\n        \"semantic_type\": \"\",\n        \"description\": \"\"\n      }\n    }\n  ]\n}"
            }
          },
          "metadata": {},
          "execution_count": 4
        }
      ],
      "source": [
        "data = yf.download('^NSEI', start='2010-01-01', end='2025-06-01')\n",
        "data.head()"
      ]
    },
    {
      "cell_type": "markdown",
      "id": "58d0840c",
      "metadata": {
        "id": "58d0840c"
      },
      "source": [
        "## Step 2: Preprocess Data"
      ]
    },
    {
      "cell_type": "code",
      "execution_count": 5,
      "id": "c40a15b7",
      "metadata": {
        "id": "c40a15b7"
      },
      "outputs": [],
      "source": [
        "# Use only the 'Close' price\n",
        "close_data = data[['Close']]\n",
        "scaler = MinMaxScaler(feature_range=(0, 1))\n",
        "scaled_data = scaler.fit_transform(close_data)"
      ]
    },
    {
      "cell_type": "code",
      "execution_count": 6,
      "id": "6ee9d26f",
      "metadata": {
        "id": "6ee9d26f"
      },
      "outputs": [],
      "source": [
        "# Create sequences for LSTM\n",
        "sequence_length = 60\n",
        "X, y = [], []\n",
        "\n",
        "for i in range(sequence_length, len(scaled_data) - 120):\n",
        "    X.append(scaled_data[i-sequence_length:i, 0])\n",
        "    y.append(scaled_data[i:i+120, 0])  # Predicting next 120 days (~6 months)\n",
        "\n",
        "X, y = np.array(X), np.array(y)\n",
        "X = np.reshape(X, (X.shape[0], X.shape[1], 1))"
      ]
    },
    {
      "cell_type": "markdown",
      "id": "8d93c770",
      "metadata": {
        "id": "8d93c770"
      },
      "source": [
        "## Step 3: Train-Test Split"
      ]
    },
    {
      "cell_type": "code",
      "execution_count": 7,
      "id": "7d5f6e17",
      "metadata": {
        "id": "7d5f6e17"
      },
      "outputs": [],
      "source": [
        "train_size = int(len(X) * 0.9)\n",
        "X_train, X_test = X[:train_size], X[train_size:]\n",
        "y_train, y_test = y[:train_size], y[train_size:]"
      ]
    },
    {
      "cell_type": "markdown",
      "id": "4649c744",
      "metadata": {
        "id": "4649c744"
      },
      "source": [
        "## Step 4: Build and Train LSTM Model"
      ]
    },
    {
      "cell_type": "code",
      "execution_count": 8,
      "id": "becbb193",
      "metadata": {
        "colab": {
          "base_uri": "https://localhost:8080/"
        },
        "id": "becbb193",
        "outputId": "9163423f-e19c-4bac-db5d-1985588b88de"
      },
      "outputs": [
        {
          "output_type": "stream",
          "name": "stdout",
          "text": [
            "Epoch 1/20\n"
          ]
        },
        {
          "output_type": "stream",
          "name": "stderr",
          "text": [
            "/usr/local/lib/python3.11/dist-packages/keras/src/layers/rnn/rnn.py:200: UserWarning: Do not pass an `input_shape`/`input_dim` argument to a layer. When using Sequential models, prefer using an `Input(shape)` object as the first layer in the model instead.\n",
            "  super().__init__(**kwargs)\n"
          ]
        },
        {
          "output_type": "stream",
          "name": "stdout",
          "text": [
            "\u001b[1m92/92\u001b[0m \u001b[32m━━━━━━━━━━━━━━━━━━━━\u001b[0m\u001b[37m\u001b[0m \u001b[1m3s\u001b[0m 20ms/step - loss: 0.0331 - val_loss: 0.0029\n",
            "Epoch 2/20\n",
            "\u001b[1m92/92\u001b[0m \u001b[32m━━━━━━━━━━━━━━━━━━━━\u001b[0m\u001b[37m\u001b[0m \u001b[1m2s\u001b[0m 18ms/step - loss: 0.0019 - val_loss: 0.0081\n",
            "Epoch 3/20\n",
            "\u001b[1m92/92\u001b[0m \u001b[32m━━━━━━━━━━━━━━━━━━━━\u001b[0m\u001b[37m\u001b[0m \u001b[1m2s\u001b[0m 17ms/step - loss: 0.0021 - val_loss: 0.0018\n",
            "Epoch 4/20\n",
            "\u001b[1m92/92\u001b[0m \u001b[32m━━━━━━━━━━━━━━━━━━━━\u001b[0m\u001b[37m\u001b[0m \u001b[1m2s\u001b[0m 17ms/step - loss: 0.0018 - val_loss: 0.0037\n",
            "Epoch 5/20\n",
            "\u001b[1m92/92\u001b[0m \u001b[32m━━━━━━━━━━━━━━━━━━━━\u001b[0m\u001b[37m\u001b[0m \u001b[1m2s\u001b[0m 20ms/step - loss: 0.0016 - val_loss: 0.0019\n",
            "Epoch 6/20\n",
            "\u001b[1m92/92\u001b[0m \u001b[32m━━━━━━━━━━━━━━━━━━━━\u001b[0m\u001b[37m\u001b[0m \u001b[1m1s\u001b[0m 16ms/step - loss: 0.0016 - val_loss: 0.0048\n",
            "Epoch 7/20\n",
            "\u001b[1m92/92\u001b[0m \u001b[32m━━━━━━━━━━━━━━━━━━━━\u001b[0m\u001b[37m\u001b[0m \u001b[1m2s\u001b[0m 20ms/step - loss: 0.0018 - val_loss: 0.0023\n",
            "Epoch 8/20\n",
            "\u001b[1m92/92\u001b[0m \u001b[32m━━━━━━━━━━━━━━━━━━━━\u001b[0m\u001b[37m\u001b[0m \u001b[1m1s\u001b[0m 15ms/step - loss: 0.0016 - val_loss: 0.0024\n",
            "Epoch 9/20\n",
            "\u001b[1m92/92\u001b[0m \u001b[32m━━━━━━━━━━━━━━━━━━━━\u001b[0m\u001b[37m\u001b[0m \u001b[1m3s\u001b[0m 17ms/step - loss: 0.0016 - val_loss: 0.0049\n",
            "Epoch 10/20\n",
            "\u001b[1m92/92\u001b[0m \u001b[32m━━━━━━━━━━━━━━━━━━━━\u001b[0m\u001b[37m\u001b[0m \u001b[1m2s\u001b[0m 16ms/step - loss: 0.0016 - val_loss: 0.0044\n",
            "Epoch 11/20\n",
            "\u001b[1m92/92\u001b[0m \u001b[32m━━━━━━━━━━━━━━━━━━━━\u001b[0m\u001b[37m\u001b[0m \u001b[1m2s\u001b[0m 18ms/step - loss: 0.0016 - val_loss: 0.0022\n",
            "Epoch 12/20\n",
            "\u001b[1m92/92\u001b[0m \u001b[32m━━━━━━━━━━━━━━━━━━━━\u001b[0m\u001b[37m\u001b[0m \u001b[1m2s\u001b[0m 20ms/step - loss: 0.0017 - val_loss: 0.0020\n",
            "Epoch 13/20\n",
            "\u001b[1m92/92\u001b[0m \u001b[32m━━━━━━━━━━━━━━━━━━━━\u001b[0m\u001b[37m\u001b[0m \u001b[1m2s\u001b[0m 17ms/step - loss: 0.0016 - val_loss: 0.0021\n",
            "Epoch 14/20\n",
            "\u001b[1m92/92\u001b[0m \u001b[32m━━━━━━━━━━━━━━━━━━━━\u001b[0m\u001b[37m\u001b[0m \u001b[1m2s\u001b[0m 17ms/step - loss: 0.0017 - val_loss: 0.0021\n",
            "Epoch 15/20\n",
            "\u001b[1m92/92\u001b[0m \u001b[32m━━━━━━━━━━━━━━━━━━━━\u001b[0m\u001b[37m\u001b[0m \u001b[1m3s\u001b[0m 18ms/step - loss: 0.0015 - val_loss: 0.0027\n",
            "Epoch 16/20\n",
            "\u001b[1m92/92\u001b[0m \u001b[32m━━━━━━━━━━━━━━━━━━━━\u001b[0m\u001b[37m\u001b[0m \u001b[1m2s\u001b[0m 18ms/step - loss: 0.0015 - val_loss: 0.0023\n",
            "Epoch 17/20\n",
            "\u001b[1m92/92\u001b[0m \u001b[32m━━━━━━━━━━━━━━━━━━━━\u001b[0m\u001b[37m\u001b[0m \u001b[1m3s\u001b[0m 20ms/step - loss: 0.0016 - val_loss: 0.0024\n",
            "Epoch 18/20\n",
            "\u001b[1m92/92\u001b[0m \u001b[32m━━━━━━━━━━━━━━━━━━━━\u001b[0m\u001b[37m\u001b[0m \u001b[1m2s\u001b[0m 17ms/step - loss: 0.0015 - val_loss: 0.0019\n",
            "Epoch 19/20\n",
            "\u001b[1m92/92\u001b[0m \u001b[32m━━━━━━━━━━━━━━━━━━━━\u001b[0m\u001b[37m\u001b[0m \u001b[1m2s\u001b[0m 18ms/step - loss: 0.0017 - val_loss: 0.0020\n",
            "Epoch 20/20\n",
            "\u001b[1m92/92\u001b[0m \u001b[32m━━━━━━━━━━━━━━━━━━━━\u001b[0m\u001b[37m\u001b[0m \u001b[1m2s\u001b[0m 17ms/step - loss: 0.0015 - val_loss: 0.0031\n"
          ]
        },
        {
          "output_type": "execute_result",
          "data": {
            "text/plain": [
              "<keras.src.callbacks.history.History at 0x7de541e2a990>"
            ]
          },
          "metadata": {},
          "execution_count": 8
        }
      ],
      "source": [
        "model = Sequential()\n",
        "model.add(LSTM(units=64, return_sequences=False, input_shape=(X.shape[1], 1)))\n",
        "model.add(Dense(120))  # Predicting next 120 days\n",
        "model.compile(loss='mse', optimizer='adam')\n",
        "model.fit(X_train, y_train, epochs=20, batch_size=32, validation_split=0.1)"
      ]
    },
    {
      "cell_type": "markdown",
      "id": "1a64c65b",
      "metadata": {
        "id": "1a64c65b"
      },
      "source": [
        "## Step 5: Predict for Jan–Jun 2025"
      ]
    },
    {
      "cell_type": "code",
      "execution_count": 9,
      "id": "67727c0d",
      "metadata": {
        "colab": {
          "base_uri": "https://localhost:8080/"
        },
        "id": "67727c0d",
        "outputId": "fc128943-531f-46a7-9c9f-70f7659fd4c2"
      },
      "outputs": [
        {
          "output_type": "stream",
          "name": "stdout",
          "text": [
            "\u001b[1m1/1\u001b[0m \u001b[32m━━━━━━━━━━━━━━━━━━━━\u001b[0m\u001b[37m\u001b[0m \u001b[1m0s\u001b[0m 147ms/step\n"
          ]
        }
      ],
      "source": [
        "# Use last 60 days of 2024 to predict\n",
        "last_60 = scaled_data[-180:-120]\n",
        "last_60 = np.reshape(last_60, (1, 60, 1))\n",
        "\n",
        "predicted_scaled = model.predict(last_60)\n",
        "predicted = scaler.inverse_transform(predicted_scaled.reshape(-1, 1))"
      ]
    },
    {
      "cell_type": "code",
      "execution_count": 10,
      "id": "a5e07679",
      "metadata": {
        "id": "a5e07679"
      },
      "outputs": [],
      "source": [
        "# Actual 2025 data to compare\n",
        "actual_2025 = data.loc['2025-01-01':'2025-06-01']['Close'].values[:120]\n",
        "dates_2025 = data.loc['2025-01-01':'2025-06-01'].index[:120]"
      ]
    },
    {
      "cell_type": "markdown",
      "id": "7074749c",
      "metadata": {
        "id": "7074749c"
      },
      "source": [
        "## Step 6: Evaluation"
      ]
    },
    {
      "cell_type": "code",
      "execution_count": 11,
      "id": "98b14517",
      "metadata": {
        "colab": {
          "base_uri": "https://localhost:8080/",
          "height": 564
        },
        "id": "98b14517",
        "outputId": "36d28cc5-a373-4049-fde9-695aabcc5731"
      },
      "outputs": [
        {
          "output_type": "display_data",
          "data": {
            "text/plain": [
              "<Figure size 1200x600 with 1 Axes>"
            ],
            "image/png": "[encoded data removed]"
          },
          "metadata": {}
        }
      ],
      "source": [
        "predicted = predicted[:len(dates_2025)]\n",
        "\n",
        "plt.figure(figsize=(12,6))\n",
        "plt.plot(dates_2025, actual_2025, label='Actual')\n",
        "plt.plot(dates_2025, predicted, label='Predicted')\n",
        "plt.title('NIFTY 50: Actual vs Predicted (Jan–Jun 2025)')\n",
        "plt.xlabel('Date')\n",
        "plt.ylabel('Price')\n",
        "plt.legend()\n",
        "plt.grid(True)\n",
        "plt.show()"
      ]
    },
    {
      "cell_type": "code",
      "execution_count": 12,
      "id": "48b9a7fb",
      "metadata": {
        "colab": {
          "base_uri": "https://localhost:8080/"
        },
        "id": "48b9a7fb",
        "outputId": "aa6c2c7a-9ba3-4cb1-ef20-81e45c5ff65b"
      },
      "outputs": [
        {
          "output_type": "stream",
          "name": "stdout",
          "text": [
            "RMSE: 1808.73\n",
            "MAPE: 6.54%\n"
          ]
        }
      ],
      "source": [
        "# RMSE and MAPE\n",
        "rmse = np.sqrt(mean_squared_error(actual_2025, predicted))\n",
        "mape = mean_absolute_percentage_error(actual_2025, predicted) * 100\n",
        "print(f'RMSE: {rmse:.2f}')\n",
        "print(f'MAPE: {mape:.2f}%')"
      ]
    },
    {
      "cell_type": "code",
      "execution_count": 13,
      "id": "62938ce0",
      "metadata": {
        "colab": {
          "base_uri": "https://localhost:8080/"
        },
        "id": "62938ce0",
        "outputId": "c84ebca8-c6e5-4f55-dd9f-efe9d4f59cf8"
      },
      "outputs": [
        {
          "output_type": "stream",
          "name": "stdout",
          "text": [
            "Directional Accuracy: 49.00%\n"
          ]
        }
      ],
      "source": [
        "# Directional Accuracy\n",
        "pred_dir = np.sign(predicted[1:] - predicted[:-1])\n",
        "act_dir = np.sign(actual_2025[1:] - actual_2025[:-1])\n",
        "dir_acc = np.sum(pred_dir == act_dir) / len(pred_dir)\n",
        "print(f'Directional Accuracy: {dir_acc * 100:.2f}%')"
      ]
    },
    {
      "cell_type": "code",
      "source": [],
      "metadata": {
        "id": "9fjfrvxH9duz"
      },
      "id": "9fjfrvxH9duz",
      "execution_count": 13,
      "outputs": []
    }
  ],
  "metadata": {
    "colab": {
      "provenance": []
    },
    "language_info": {
      "name": "python"
    },
    "kernelspec": {
      "name": "python3",
      "display_name": "Python 3"
    }
  },
  "nbformat": 4,
  "nbformat_minor": 5
}